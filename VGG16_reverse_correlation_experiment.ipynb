{
 "cells": [
  {
   "cell_type": "code",
   "execution_count": null,
   "metadata": {
    "collapsed": false
   },
   "outputs": [],
   "source": [
    "# ------------ \"in silico\" reverse correlation experiment  ------------ \n",
    "\n",
    "# import needed modules\n",
    "import numpy as np\n",
    "import seaborn as sb\n",
    "import matplotlib.pyplot as plt\n",
    "import keras "
   ]
  },
  {
   "cell_type": "code",
   "execution_count": null,
   "metadata": {
    "collapsed": false
   },
   "outputs": [],
   "source": [
    "# load model and display summary\n",
    "from keras.applications.vgg16 import VGG16\n",
    "base_model = VGG16(weights='imagenet')\n",
    "print(base_model.summary())"
   ]
  },
  {
   "cell_type": "code",
   "execution_count": null,
   "metadata": {
    "collapsed": false
   },
   "outputs": [],
   "source": [
    "# generate and inspect noise (white) to be used in reverse correlation experiment\n",
    "nframes=5000;\n",
    "noise=np.random.uniform(0,1,[224,224,nframes]);\n",
    "for j in range(5):\n",
    "    print 'Noise frame number ',j,' ...'\n",
    "    plt.imshow(noise[:,:,j])\n",
    "    plt.show()"
   ]
  },
  {
   "cell_type": "code",
   "execution_count": null,
   "metadata": {
    "collapsed": false
   },
   "outputs": [],
   "source": [
    "# import needed functions\n",
    "from keras.preprocessing import image\n",
    "from keras.applications.vgg16 import preprocess_input\n",
    "from keras.models import Model"
   ]
  },
  {
   "cell_type": "code",
   "execution_count": null,
   "metadata": {
    "collapsed": false
   },
   "outputs": [],
   "source": [
    "# create sub-model to get activities at intermediate layers\n",
    "from keras.models import Model\n",
    "sub_model1=Model(input=base_model.input, output=base_model.get_layer('block1_conv1').output)\n",
    "sub_model2=Model(input=base_model.input, output=base_model.get_layer('block2_conv1').output)\n",
    "sub_model3=Model(input=base_model.input, output=base_model.get_layer('block5_conv1').output)\n",
    "\n",
    "# decide from which units to \"record\"\n",
    "nunit=10;\n",
    "b1c1_units=np.empty([nunit,3])\n",
    "b1c1_units[:,0]=np.random.randint(0,sub_model1.output_shape[1],nunit)\n",
    "b1c1_units[:,1]=np.random.randint(0,sub_model1.output_shape[2],nunit)\n",
    "b1c1_units[:,2]=np.random.randint(0,sub_model1.output_shape[3],nunit)\n",
    "b2c1_units=np.empty([nunit,3])\n",
    "b2c1_units[:,0]=np.random.randint(0,sub_model2.output_shape[1],nunit)\n",
    "b2c1_units[:,1]=np.random.randint(0,sub_model2.output_shape[2],nunit)\n",
    "b2c1_units[:,2]=np.random.randint(0,sub_model2.output_shape[3],nunit)\n",
    "b5c1_units=np.empty([nunit,3])\n",
    "b5c1_units[:,0]=np.random.randint(0,sub_model3.output_shape[1],nunit)\n",
    "b5c1_units[:,1]=np.random.randint(0,sub_model3.output_shape[2],nunit)\n",
    "b5c1_units[:,2]=np.random.randint(0,sub_model3.output_shape[3],nunit)\n",
    "\n",
    "# initialize activity storage matrices\n",
    "b1c1_activations = np.empty([nframes,nunit]);\n",
    "b2c1_activations = np.empty([nframes,nunit]);\n",
    "b5c1_activations = np.empty([nframes,nunit]);\n",
    "\n",
    "# get activations\n",
    "for j in range(nunit):\n",
    "    for i in range(nframes):\n",
    "        # load and preprocess current image\n",
    "        img = np.dstack([noise[:,:,i],noise[:,:,i],noise[:,:,i]])\n",
    "        x = image.img_to_array(img)\n",
    "        x = np.expand_dims(x, axis=0)\n",
    "        x = preprocess_input(x)\n",
    "        # compute prediction and extract units activation\n",
    "        b1c1_activations[i,j]=sub_model1.predict(x)[0,b1c1_units[j,0],\n",
    "                                                    b1c1_units[j,1],\n",
    "                                                    b1c1_units[j,2]]\n",
    "        b2c1_activations[i,j]=sub_model2.predict(x)[0,b2c1_units[j,0],\n",
    "                                                    b2c1_units[j,1],\n",
    "                                                    b2c1_units[j,2]]\n",
    "        b5c1_activations[i,j]=sub_model3.predict(x)[0,b5c1_units[j,0],\n",
    "                                                    b5c1_units[j,1],\n",
    "                                                    b5c1_units[j,2]]\n",
    "    print 'activations of unit',j,'over every noise frame computed ...'\n",
    "# save results\n",
    "import pickle\n",
    "f = open('VGG16activations.pckl', 'wb')\n",
    "pickle.dump([b1c1_activations,b2c1_activations,b5c1_activations], f)\n",
    "f.close()"
   ]
  },
  {
   "cell_type": "code",
   "execution_count": null,
   "metadata": {
    "collapsed": false
   },
   "outputs": [],
   "source": [
    "# do STA analysis %%%%%%%%%%%%%%%%%%%%%%%%%%%%%%%%%%%%%%%%%%%%%%%%%%%%%%%%%\n",
    "STAb1c1=np.empty([noise[:,:,0].shape[0],noise[:,:,0].shape[1],nunit])\n",
    "STAb2c1=np.empty([noise[:,:,0].shape[0],noise[:,:,0].shape[1],nunit])\n",
    "STAb5c1=np.empty([noise[:,:,0].shape[0],noise[:,:,0].shape[1],nunit])\n",
    "for j in range(nunit):\n",
    "    for i in range(nframes):\n",
    "        STAb1c1[:,:,j]=STAb1c1[:,:,j]+b1c1_activations[i,j]*noise[:,:,i] \n",
    "        STAb2c1[:,:,j]=STAb2c1[:,:,j]+b2c1_activations[i,j]*noise[:,:,i] \n",
    "        STAb5c1[:,:,j]=STAb5c1[:,:,j]+b5c1_activations[i,j]*noise[:,:,i] \n",
    "    print 'STA analysis for unit',j,'in each layer completed ...'\n",
    "STAb1c1=STAb1c1/nframes\n",
    "STAb2c1=STAb2c1/nframes\n",
    "STAb5c1=STAb5c1/nframes\n",
    "\n",
    "# do STA analysis permutation test  %%%%%%%%%%%%%%%%%%%%%%%%%%%%%%%%%%%%%%%%\n",
    "nperm=25\n",
    "STAb1c1P=np.empty([noise[:,:,0].shape[0],noise[:,:,0].shape[1],nunit,nperm])\n",
    "STAb2c1P=np.empty([noise[:,:,0].shape[0],noise[:,:,0].shape[1],nunit,nperm])\n",
    "STAb5c1P=np.empty([noise[:,:,0].shape[0],noise[:,:,0].shape[1],nunit,nperm])\n",
    "for k in range(nperm):\n",
    "    permidx=np.random.permutation(range(nframes))\n",
    "    for j in range(nunit):\n",
    "        for i in range(nframes):\n",
    "            STAb1c1P[:,:,j,k]=STAb1c1P[:,:,j,k]+b1c1_activations[permidx[i],j]*noise[:,:,i] \n",
    "            STAb2c1P[:,:,j,k]=STAb2c1P[:,:,j,k]+b2c1_activations[permidx[i],j]*noise[:,:,i] \n",
    "            STAb5c1P[:,:,j,k]=STAb5c1P[:,:,j,k]+b5c1_activations[permidx[i],j]*noise[:,:,i] \n",
    "        print 'STA analysis permutation test number',k,'for unit',j,'in each layer completed ...'\n",
    "STAb1c1P=STAb1c1P/nframes\n",
    "STAb2c1P=STAb2c1P/nframes\n",
    "STAb5c1P=STAb5c1P/nframes\n",
    "\n",
    "sigSTAb1c1=np.empty([noise[:,:,0].shape[0],noise[:,:,0].shape[1],nunit])\n",
    "sigSTAb2c1=np.empty([noise[:,:,0].shape[0],noise[:,:,0].shape[1],nunit])\n",
    "sigSTAb5c1=np.empty([noise[:,:,0].shape[0],noise[:,:,0].shape[1],nunit])\n",
    "muSTAb1c1=np.empty([noise[:,:,0].shape[0],noise[:,:,0].shape[1],nunit])\n",
    "muSTAb2c1=np.empty([noise[:,:,0].shape[0],noise[:,:,0].shape[1],nunit])\n",
    "muSTAb5c1=np.empty([noise[:,:,0].shape[0],noise[:,:,0].shape[1],nunit])\n",
    "for j in range(nunit):\n",
    "    sigSTAb1c1[:,:,j]=STAb1c1P[:,:,j,:].std(2)\n",
    "    sigSTAb2c1[:,:,j]=STAb2c1P[:,:,j,:].std(2)\n",
    "    sigSTAb5c1[:,:,j]=STAb5c1P[:,:,j,:].std(2)\n",
    "    muSTAb1c1[:,:,j]=STAb1c1P[:,:,j,:].mean(2)\n",
    "    muSTAb2c1[:,:,j]=STAb2c1P[:,:,j,:].mean(2)\n",
    "    muSTAb5c1[:,:,j]=STAb5c1P[:,:,j,:].mean(2)\n",
    "    \n",
    "ZSTAb1c1 = (STAb1c1-muSTAb1c1)/sigSTAb1c1\n",
    "ZSTAb2c1 = (STAb2c1-muSTAb2c1)/sigSTAb2c1\n",
    "ZSTAb5c1 = (STAb5c1-muSTAb5c1)/sigSTAb5c1"
   ]
  },
  {
   "cell_type": "code",
   "execution_count": null,
   "metadata": {
    "collapsed": false
   },
   "outputs": [],
   "source": [
    "# print and save results\n",
    "for j in range(nunit):\n",
    "    print 'STA_unit_%d_block_1 ...' % j\n",
    "    plt.imshow(ZSTAb1c1[:,:,j], clim=(-6,6))\n",
    "    plt.colorbar()\n",
    "    plt.savefig('STA_unit_%d_block_1.png' % j)\n",
    "    plt.show()\n",
    "    print 'STA_unit_%d_block_2 ...' % j\n",
    "    plt.imshow(ZSTAb2c1[:,:,j], clim=(-6,6))\n",
    "    plt.colorbar()\n",
    "    plt.savefig('STA_unit_%d_block_2.png' % j)\n",
    "    plt.show()\n",
    "    print 'STA_unit_%d_block_5 ...' % j\n",
    "    plt.imshow(ZSTAb5c1[:,:,j], clim=(-6,6))\n",
    "    plt.colorbar()\n",
    "    plt.savefig('STA_unit_%d_block_5.png' % j)\n",
    "    plt.show()"
   ]
  },
  {
   "cell_type": "code",
   "execution_count": null,
   "metadata": {
    "collapsed": false
   },
   "outputs": [],
   "source": [
    "## how to load results\n",
    "#f = open('VGG16activations.pckl', 'rb')\n",
    "#prova = pickle.load(f)\n",
    "#f.close()"
   ]
  },
  {
   "cell_type": "code",
   "execution_count": null,
   "metadata": {
    "collapsed": false
   },
   "outputs": [],
   "source": [
    "for j in range(nunit):\n",
    "    for i in range(10):\n",
    "        # load and preprocess current image\n",
    "        img = np.dstack([noise[:,:,i],noise[:,:,i],noise[:,:,i]])\n",
    "        x = image.img_to_array(img)\n",
    "        x = np.expand_dims(x, axis=0)\n",
    "        x = preprocess_input(x)\n",
    "        # compute prediction and extract units activation\n",
    "        value=sub_model1.predict(x)[0,b1c1_units[j,0],\n",
    "                                                    b1c1_units[j,1],\n",
    "                                                    b1c1_units[j,2]]\n",
    "        print 'For unit',j,'and frame',i,'activation is',value"
   ]
  }
 ],
 "metadata": {
  "kernelspec": {
   "display_name": "Python 2",
   "language": "python",
   "name": "python2"
  },
  "language_info": {
   "codemirror_mode": {
    "name": "ipython",
    "version": 2
   },
   "file_extension": ".py",
   "mimetype": "text/x-python",
   "name": "python",
   "nbconvert_exporter": "python",
   "pygments_lexer": "ipython2",
   "version": "2.7.13"
  }
 },
 "nbformat": 4,
 "nbformat_minor": 2
}
